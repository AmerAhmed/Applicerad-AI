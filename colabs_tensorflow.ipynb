{
  "nbformat": 4,
  "nbformat_minor": 0,
  "metadata": {
    "colab": {
      "provenance": []
    },
    "kernelspec": {
      "name": "python3",
      "display_name": "Python 3"
    },
    "language_info": {
      "name": "python"
    }
  },
  "cells": [
    {
      "cell_type": "code",
      "execution_count": null,
      "metadata": {
        "id": "g6znN1aA4vp2"
      },
      "outputs": [],
      "source": [
        "import tensorflow as tf\n",
        "import numpy as np\n",
        "from google.colab import drive\n",
        "from keras.preprocessing.image import ImageDataGenerator\n",
        "from keras.models import load_model\n",
        "pip install split-folders\n",
        "\n",
        "drive.mount('/content/drive')"
      ]
    },
    {
      "cell_type": "code",
      "source": [
        "import splitfolders\n",
        "input_file = '/content/drive/MyDrive/tfdata/data/fruits'\n",
        "output_file = '/content/drive/MyDrive/tfdata/data/fruits_splitted3'\n",
        "\n",
        "#Splits the dataset into 3 folders. Train = 70%, validation = 20%, test = 10%\n",
        "splitfolders.ratio(input_file, output=output_file, seed=42, ratio=(.7, .2, .1), group_prefix=None)"
      ],
      "metadata": {
        "id": "nUBAOvLn5lSt"
      },
      "execution_count": null,
      "outputs": []
    },
    {
      "cell_type": "code",
      "source": [
        "\n",
        "#Preprocess the images from train and validation.\n",
        "\n",
        "\n",
        "train_path = '/content/drive/MyDrive/tfdata/data/fruits_splitted3/train'\n",
        "test_path = '/content/drive/MyDrive/tfdata/data/fruits_splitted3/val'\n",
        "\n",
        "BATCH_SIZE = 10\n",
        "\n",
        "train_batches = ImageDataGenerator(\n",
        "    preprocessing_function=tf.keras.applications.vgg16.preprocess_input,\n",
        "    rescale=1/255.,\n",
        "    horizontal_flip=True,\n",
        "    vertical_flip=True\n",
        ").flow_from_directory(\n",
        "    directory=train_path,\n",
        "    target_size=(20, 20),\n",
        "    classes=['Apple_Bad', 'Apple_Good', 'Banana_Bad', 'Banana_Good', 'Lemon_Bad', 'Lemon_Good', 'Orange_Bad', 'Orange_Good'],\n",
        "    batch_size=BATCH_SIZE,\n",
        "    class_mode='categorical',\n",
        "    color_mode='rgb'\n",
        ")\n",
        "\n",
        "test_batches = ImageDataGenerator(\n",
        "    preprocessing_function=tf.keras.applications.vgg16.preprocess_input, rescale=1/255.\n",
        ").flow_from_directory(\n",
        "    directory=test_path,\n",
        "    target_size=(20, 20),\n",
        "    classes=['Apple_Bad', 'Apple_Good', 'Banana_Bad', 'Banana_Good', 'Lemon_Bad', 'Lemon_Good', 'Orange_Bad', 'Orange_Good'],\n",
        "    batch_size=BATCH_SIZE,\n",
        "    class_mode='categorical',\n",
        "    color_mode='rgb',\n",
        "    shuffle=False\n",
        ")\n"
      ],
      "metadata": {
        "id": "TqkYp0bZ6UAb"
      },
      "execution_count": null,
      "outputs": []
    },
    {
      "cell_type": "code",
      "source": [
        "#Trains the model and saves it\n",
        "\n",
        "model = Sequential()\n",
        "model.add(Conv2D(32, (3, 3), activation=('relu'), input_shape=(20, 20, 3)))\n",
        "model.add(MaxPooling2D((2, 2)))\n",
        "model.add(Conv2D(64,(3,3), activation=('relu')))\n",
        "model.add(MaxPooling2D(2,2))\n",
        "model.add(Flatten())\n",
        "model.add(Dense(128, activation=('relu')))\n",
        "model.add(Dense(128, activation=('relu')))\n",
        "model.add(Dense(8, activation=('softmax')))\n",
        "model.compile(optimizer='adam', loss='categorical_crossentropy', metrics=['accuracy'])\n",
        "model.fit(test_batches, epochs=17)\n",
        "model.save('/content/drive/MyDrive/models/model3test')"
      ],
      "metadata": {
        "id": "GZ_MutRt6fHp"
      },
      "execution_count": null,
      "outputs": []
    }
  ]
}